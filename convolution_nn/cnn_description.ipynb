{
 "cells": [
  {
   "cell_type": "markdown",
   "metadata": {},
   "source": [
    "<tb>\n",
    "    <tr>aefa</tr>\n",
    "</tb>"
   ]
  },
  {
   "cell_type": "markdown",
   "metadata": {},
   "source": [
    "## **使用深度学习框架的要点**\n",
    "1. Easily build big computational graphs  \n",
    "2. Easily compute gradients in computational graphs\n",
    "3. Run it all efficiently on GPU(wrap cuDNN, cuBLAS, etc)  \n",
    "\n",
    "\n",
    "\n",
    "## **常用深度学习框架**　　\n",
    "\n",
    "### **一、caffe(Convolution Architecture for Fast Feature Embedding)：**\n",
    "\n",
    "(Facebook)卷积神经网络框架。是一种常用的深度学习框架，主要应用在视频、图像处理方面的应用上。  \n",
    "\n",
    "### **二、Torch**\n",
    "\n",
    "\n",
    "\n",
    "### **三、Tensorflow**(google)  \n",
    "**tensorflow　的神经网络模型可以分成两个部分：**  \n",
    "\n",
    "*import numpy as np       # 导入numpy模块  \n",
    "import tensorflow as tf　 # 导入tensorflow模块*\n",
    "\n",
    "1. **define the computational graph**  \n",
    "\\# 设置网络中的入口节点，节点中不含数据  \n",
    "N, D, H = 64, 1000, 100  \n",
    "x = tf.placeholder(tf.float32, shape = (N, D))  \n",
    "y = tf.placeholder(tf.float32, shape = (N, D))  \n",
    "w1 = tf.placeholder(tf.float32, shape = (D, H))\n",
    "w2 = tf.placeholder(tf.float32, shape = (H, D))\n",
    "2. **run the graph many times**  \n",
    "使用numpy的数组来填充上一部分中定义的placeholders，以　**with tf.Session() as sess:**　开始。  \n",
    "tf.run([输出数组], feed_dict = 用于填充的字典类型)"
   ]
  },
  {
   "cell_type": "markdown",
   "metadata": {},
   "source": [
    "## **卷积神经网络**　　\n",
    "与全连接神经网络相比，卷积神经网络通过局部感受区域和权值共享，减小了需要训练的参数的数目。\n",
    "\n",
    "### **一、卷积层输出维度的计算：**　　\n",
    "\n",
    "input image dimension: r * c * l (rows * cols * layers)\n",
    "padding: p  \n",
    "filter dimension: f  \n",
    "convolution step: s  \n",
    "output image dimension: $r_{out}=\\lfloor \\frac {r+2\\times p -f}{s} \\rfloor +1$"
   ]
  },
  {
   "cell_type": "code",
   "execution_count": null,
   "metadata": {},
   "outputs": [],
   "source": []
  }
 ],
 "metadata": {
  "kernelspec": {
   "display_name": "Python 3",
   "language": "python",
   "name": "python3"
  },
  "language_info": {
   "codemirror_mode": {
    "name": "ipython",
    "version": 3
   },
   "file_extension": ".py",
   "mimetype": "text/x-python",
   "name": "python",
   "nbconvert_exporter": "python",
   "pygments_lexer": "ipython3",
   "version": "3.7.0"
  }
 },
 "nbformat": 4,
 "nbformat_minor": 2
}
