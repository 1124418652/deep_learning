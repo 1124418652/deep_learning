{
 "cells": [
  {
   "cell_type": "markdown",
   "metadata": {},
   "source": [
    "## 二次代价函数(quadratic cost)\n",
    "函数形式：  \n",
    "$$L = \\frac 1{2m}\\sum_x||y_i-\\hat y_i||^2$$\n",
    "在二层网络中计算反向传播：\n",
    "\\begin{equation}\n",
    "dA^{[2]} = \\frac 1m (A^{[2]} - y).sum()\\\\\n",
    "dZ^{[2]} = dA^{[2]}*\\sigma'(Z^{[2]})\n",
    "\\end{equation}\n",
    "如果最后一层输出神经元的激活函数是线性的，如 ReLU，leaky ReLU，那么二次代价函数就是一种合适的选择."
   ]
  },
  {
   "cell_type": "markdown",
   "metadata": {},
   "source": [
    "## 交叉熵代价函数(cross entropy)\n",
    "函数形式：  \n",
    "$$L=-\\frac 1m \\sum _{i=0}^{m-1}[(1-y_i)log(1-\\hat y_i)+y_ilog(\\hat y_i)]$$\n",
    "在二层网络中计算计算$dw^{[2]},db^{[2]}:$\n",
    "\\begin{equation}\n",
    "dZ^{[2]}=\\frac 1m (A^{[2]}-Y),\\qquad Y=[y^{(1)},y^{(2)},...,y^{(m)}]\\\\\n",
    "dw^{[2]}=\\frac 1m dZ^{[2]}A^{[1]T}\\\\\n",
    "db^{[2]}=\\frac 1m dZ^{[2]}\n",
    "\\end{equation}\n",
    "如果最后一层的输出神经元的激活函数是 S 型函数，那么交叉熵代价函数比较合适."
   ]
  },
  {
   "cell_type": "markdown",
   "metadata": {},
   "source": [
    "## 对数似然函数(log-likelihood cost)\n",
    "对数似然函数常用来作为 softmax 回归的代价函数。对数似然代价函数与 softmax 的组合和交叉熵与 sigmod 函数的组合非常相似。对数似然函数在二分类时可以化简为交叉熵代价函数的形式。"
   ]
  },
  {
   "cell_type": "code",
   "execution_count": null,
   "metadata": {},
   "outputs": [],
   "source": []
  }
 ],
 "metadata": {
  "kernelspec": {
   "display_name": "Python 3",
   "language": "python",
   "name": "python3"
  },
  "language_info": {
   "codemirror_mode": {
    "name": "ipython",
    "version": 3
   },
   "file_extension": ".py",
   "mimetype": "text/x-python",
   "name": "python",
   "nbconvert_exporter": "python",
   "pygments_lexer": "ipython3",
   "version": "3.7.0"
  }
 },
 "nbformat": 4,
 "nbformat_minor": 2
}
