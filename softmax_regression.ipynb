{
 "cells": [
  {
   "cell_type": "markdown",
   "metadata": {},
   "source": [
    "## softmax regression\n",
    "用于多分类的问题  \n",
    "### 具体算法的执行\n",
    "**如果第 l 层为 softmax 层**  \n",
    "\\begin{equation}\n",
    "z^{[l]}=\\omega^{[l]}a^{[l]}+b^{[l]},\\ 该层的维数为(样本类别数,1)\\\\\n",
    "\\end{equation}\n",
    "**激活函数：**  \n",
    "\\begin{equation}\n",
    "t=e^{z^{[l]}}\\\\\n",
    "a_i^{[l]}=\\frac {t_i}{\\sum_{j=i}^{总类别数}t_i}\n",
    "\\end{equation}\n",
    "**神经网络的训练：**  \n",
    "将样本的标签改成维数为：(类别数，样本容量)，在每一列中，除了所属的类别为１，其余位置都为０。  \n",
    "在计算 cost function 以及梯度时，使用向量化同时计算所有类别（公式与二分类时所使用的一致）。"
   ]
  },
  {
   "cell_type": "code",
   "execution_count": null,
   "metadata": {},
   "outputs": [],
   "source": []
  }
 ],
 "metadata": {
  "kernelspec": {
   "display_name": "Python 3",
   "language": "python",
   "name": "python3"
  },
  "language_info": {
   "codemirror_mode": {
    "name": "ipython",
    "version": 3
   },
   "file_extension": ".py",
   "mimetype": "text/x-python",
   "name": "python",
   "nbconvert_exporter": "python",
   "pygments_lexer": "ipython3",
   "version": "3.6.8"
  }
 },
 "nbformat": 4,
 "nbformat_minor": 2
}
