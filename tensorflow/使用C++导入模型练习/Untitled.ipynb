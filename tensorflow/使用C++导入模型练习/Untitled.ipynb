{
 "cells": [
  {
   "cell_type": "code",
   "execution_count": 5,
   "metadata": {},
   "outputs": [],
   "source": [
    "import os\n",
    "import h5py\n",
    "import numpy as np\n",
    "from PIL import Image\n",
    "import tensorflow as tf"
   ]
  },
  {
   "cell_type": "code",
   "execution_count": 16,
   "metadata": {},
   "outputs": [
    {
     "name": "stdout",
     "output_type": "stream",
     "text": [
      "['list_classes', 'train_set_x', 'train_set_y']\n",
      "['list_classes', 'test_set_x', 'test_set_y']\n"
     ]
    }
   ],
   "source": [
    "def get_files(file_dir, type = 'train'):\n",
    "    if type == 'train':\n",
    "        with h5py.File(os.path.join(file_dir, 'train_happy.h5')) as f:\n",
    "            print(list(f.keys()))\n",
    "            data = np.array(list(f['train_set_x']))\n",
    "            label = np.array(list(f['train_set_y'])).reshape([-1, 1])\n",
    "            return data, label\n",
    "    \n",
    "    elif type == 'validation':\n",
    "        with h5py.File(os.path.join(file_dir, 'test_happy.h5')) as f:\n",
    "            print(list(f.keys()))\n",
    "            data = np.array(list(f['test_set_x']))\n",
    "            label = np.array(list(f['test_set_y']))\n",
    "            return data, label\n",
    "    \n",
    "    \n",
    "def image2tfrecord(img, label, str_name):\n",
    "    \"\"\"\n",
    "    将图片数据制作成 tfrecord 格式，tfrecord 是谷歌推荐的一种二进制文件格式，\n",
    "    理论上它可以保存任何格式的信息\n",
    "    \n",
    "    Args:\n",
    "        img: 图片数组，4维数组\n",
    "        label: 图片对应的标签\n",
    "        str_name: tfrecord 格式的文件名\n",
    "    \"\"\"\n",
    "    \n",
    "    writer = tf.python_io.TFRecordWriter(str_name)\n",
    "    i = 0\n",
    "    for image in img:\n",
    "        image = Image.fromarray(image)\n",
    "        image = image.resize((224, 224))\n",
    "        image_bytes = image.tobytes()        # 将图片转换成二进制格式\n",
    "        features = {}\n",
    "        \n",
    "        # 保存的是图片的二进制数据\n",
    "        features['image_raw'] = tf.train.Feature(bytes_list = \n",
    "                                    tf.train.BytesList(value = [image_bytes]))\n",
    "        # 保存的是图片的标签，也可以用来保存图片的尺寸信息\n",
    "        features['label'] = tf.train.Feature(int64_list = \n",
    "                                    tf.train.Int64List(value = [int(label[i])]))\n",
    "        i += 1\n",
    "        \n",
    "        # 将所有的 feature 合成 features\n",
    "        tf_features = tf.train.Features(feature = features)\n",
    "        \n",
    "        # 转成 example\n",
    "        tf_example = tf.train.Example(features = tf_features)\n",
    "        \n",
    "        # 序列化样本\n",
    "        tf_serialized = tf_example.SerializeToString()\n",
    "        writer.write(tf_serialized)\n",
    "    \n",
    "    writer.close()\n",
    "        \n",
    "\n",
    "# 将测试图片和验证图片保存为 tfrecords 格式\n",
    "train_imgs, train_labels = get_files('datasets')\n",
    "val_imgs, val_labels = get_files('datasets', 'validation')\n",
    "image2tfrecord(train_imgs, train_labels, 'train.tfrecords')\n",
    "image2tfrecord(val_imgs, val_labels, 'val.tfrecords')"
   ]
  },
  {
   "cell_type": "code",
   "execution_count": 17,
   "metadata": {},
   "outputs": [],
   "source": [
    "from tensorflow.python.framework import graph_util\n",
    "\n",
    "def read_and_decode_tfrecord_files(filename, batch_size):\n",
    "    \"\"\"\n",
    "    从 tfrecord 格式的文件中读取出数据，并将其转换成正常的图片和标签\n",
    "    \n",
    "    Args:\n",
    "        filename: tfrecords 文件的文件名（完整的路径）\n",
    "        batch_size: 批大小\n",
    "    \"\"\"\n",
    "    \n",
    "    filename_queue = tf.train.string_input_producer([filename])   # 创建一个文件名队列\n",
    "    reader = tf.TFRecordReader()\n",
    "    _, serialized_example = reader.read(filename_queue)\n",
    "    img_features = tf.parse_single_example(serialized_example, \n",
    "                        features = {'label': tf.FixedLenFeature([], tf.int64),\n",
    "                                    'image_raw': tf.FixedLenFeature([], tf.string)})\n",
    "    image = tf.decode_raw(img_features['image_raw', tf.uint8])\n",
    "    image = tf.reshape(image, [224, 224, 3])\n",
    "    image = tf.cast(image, tf.float32) / 255.0\n",
    "    label = tf.cast(img_features)\n",
    "    "
   ]
  },
  {
   "cell_type": "code",
   "execution_count": null,
   "metadata": {},
   "outputs": [],
   "source": []
  }
 ],
 "metadata": {
  "kernelspec": {
   "display_name": "Python 3",
   "language": "python",
   "name": "python3"
  },
  "language_info": {
   "codemirror_mode": {
    "name": "ipython",
    "version": 3
   },
   "file_extension": ".py",
   "mimetype": "text/x-python",
   "name": "python",
   "nbconvert_exporter": "python",
   "pygments_lexer": "ipython3",
   "version": "3.6.8"
  }
 },
 "nbformat": 4,
 "nbformat_minor": 2
}
