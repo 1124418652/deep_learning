{
 "cells": [
  {
   "cell_type": "code",
   "execution_count": 1,
   "metadata": {},
   "outputs": [],
   "source": [
    "import tensorflow as tf"
   ]
  },
  {
   "cell_type": "markdown",
   "metadata": {},
   "source": [
    "## Fetch\n",
    "Fetch 操作是指 Tensorflow 的 session 可以一次运行多个 op  \n",
    "语法：将多个 op 放入数组然后传给 run 方法\n"
   ]
  },
  {
   "cell_type": "code",
   "execution_count": 2,
   "metadata": {},
   "outputs": [
    {
     "name": "stdout",
     "output_type": "stream",
     "text": [
      "[21.0, 7.0]\n"
     ]
    }
   ],
   "source": [
    "input1 = tf.constant(3.0)\n",
    "input2 = tf.constant(2.0)\n",
    "input3 = tf.constant(5.0)\n",
    "\n",
    "add = tf.add(input2, input3)\n",
    "mul = tf.multiply(input1, add)\n",
    "\n",
    "with tf.Session() as sess:\n",
    "    result = sess.run([mul, add])    # Fetch\n",
    "    print(result)"
   ]
  },
  {
   "cell_type": "markdown",
   "metadata": {},
   "source": [
    "---\n",
    "## Feed\n",
    "Feed操作是指首先建立占位符, 然后把占位符放入op中.  \n",
    "在run op的时候, 再把要op的值传进去, 以达到使用时再传参数的目的  \n",
    "语法: 首先创建placeholder 然后再在run的时候把值以字典的方式传入run"
   ]
  },
  {
   "cell_type": "code",
   "execution_count": 4,
   "metadata": {},
   "outputs": [
    {
     "name": "stdout",
     "output_type": "stream",
     "text": [
      "[14.]\n"
     ]
    }
   ],
   "source": [
    "input1 = tf.placeholder(tf.float32)\n",
    "input2 = tf.placeholder(tf.float32)\n",
    "#使用placeholder定义op\n",
    "output = tf.multiply(input1, input2)\n",
    "\n",
    "with tf.Session() as sess:\n",
    "    #feed数据以字典的方式传入\n",
    "    print(sess.run(output, feed_dict={input1: [7.], input2: [2.]}))"
   ]
  },
  {
   "cell_type": "markdown",
   "metadata": {},
   "source": [
    "---\n",
    "## 代价函数\n",
    "1. L2 代价函数  \n",
    "$loss = tf.reduce\\_mean(tf.square(y - prediction))$  \n",
    "2. cross entropy 代价函数  \n",
    "$loss = tf.reduce\\_mean(tf.nn.softmax\\_cross\\_entropy\\_with\\_logits(labels = y, logits = prediction))$"
   ]
  },
  {
   "cell_type": "markdown",
   "metadata": {},
   "source": [
    "---\n",
    "## Optimizer\n",
    "tf.train.GradientDescentOptimizer  \n",
    "tf.train.AdadeltaOptimizer  \n",
    "tf.train.AdagradOptimizer  \n",
    "tf.train.AdagradDAOptimizer  \n",
    "tf.train.MomentumOptimizer  \n",
    "tf.train.AdamOptimizer  \n",
    "tf.train.FtrlOptimizer  \n",
    "tf.train.ProximalGradientDescentOptimizer  \n",
    "tf.train.ProximalAdagradOptimizer  \n",
    "tf.train.RMSPropOptimizer  "
   ]
  },
  {
   "cell_type": "markdown",
   "metadata": {},
   "source": [
    "---\n",
    "## tensorboard\n",
    "**使用方法：**  \n",
    "1. 在定义网络结构时使用命名空间：with tf.name_scope('name'):  \n",
    "2. 在命名空间下，在生成 Tensor 或 Operator 时赋 name 变量  \n",
    "3. 然后在 Session 中要执行：writer = tf.summary.FileWriter('dir_name/', sess.graph)  \n",
    "4. 之后会在当前目录指定的文件夹下生成一个文件，在cmd（Windows下）或shell（Linux）中执行：tensorboard --logdir=D:\\...\\dir_name\n",
    "5. 将第4步生成的链接在google浏览器中打开  "
   ]
  },
  {
   "cell_type": "markdown",
   "metadata": {},
   "source": [
    "**查看网络运行时参数的情况**  "
   ]
  },
  {
   "cell_type": "code",
   "execution_count": null,
   "metadata": {},
   "outputs": [],
   "source": [
    "# 可以通过自己定义一个函数实现对某个参数情况的分析\n",
    "def variable_summaries(var):\n",
    "    with tf.name_scope('summeries'):\n",
    "        mean = tf.reduce_mean(var)\n",
    "        tf.summary.scalar('mean', mean)\n",
    "        with tf.name_scope('stddev'):\n",
    "            stddev = tf.sqrt(tf.reduce_mean(tf.square(var - mean)))\n",
    "        tf.summary.scalar('stddev', stddev)\n",
    "        tf.summary.scalar('max', tf.reduce_max(var))\n",
    "        tf.summary.scalar('min', tf.reduce_min(var))\n",
    "        tf.summary.histogram('histogram', var)\n",
    "        \n",
    "# 在Session前合并所有的summary，避免在session中一个个运行\n",
    "merged = tf.summary.merge_all()\n",
    "\n",
    "# Session\n",
    "with tf.Session() as sess:\n",
    "    writer = tf.summary.FileWriter('logs/', sess.graph)\n",
    "    for epoch in range(iteration):\n",
    "        summary, _ = sess.run([merged, train], feed_dict = {...})\n",
    "        writer.add_summary(summary, epoch)       # 在每个epoch中将summary添加到writer内\n",
    "    "
   ]
  }
 ],
 "metadata": {
  "kernelspec": {
   "display_name": "Python 3",
   "language": "python",
   "name": "python3"
  },
  "language_info": {
   "codemirror_mode": {
    "name": "ipython",
    "version": 3
   },
   "file_extension": ".py",
   "mimetype": "text/x-python",
   "name": "python",
   "nbconvert_exporter": "python",
   "pygments_lexer": "ipython3",
   "version": "3.7.0"
  }
 },
 "nbformat": 4,
 "nbformat_minor": 2
}
