{
 "cells": [
  {
   "cell_type": "markdown",
   "metadata": {},
   "source": [
    "## TensorFlow 模型的保存和载入\n",
    "需要注意的细节：  \n",
    "1、由于后续需要去除模型中具体的数据，所以在定义网络是需要给tensor和variable取名字。  \n",
    "### 使用 saver 来保存模型\n"
   ]
  },
  {
   "cell_type": "code",
   "execution_count": null,
   "metadata": {},
   "outputs": [],
   "source": [
    "saver = tf.train.Saver()  \n",
    "with tf.Session() as sess:  \n",
    "   sess.run()  \n",
    "   saver.save(sess, 'models/my_model.ckpt')"
   ]
  },
  {
   "cell_type": "markdown",
   "metadata": {},
   "source": [
    "### 模型的载入"
   ]
  },
  {
   "cell_type": "markdown",
   "metadata": {},
   "source": [
    "\"models/my_model.ckpt.meta\"  文件中保存的是模型的网络结构  \n",
    "\"models/my_model.ckpt\" 文件中保存的是模型的参数"
   ]
  },
  {
   "cell_type": "code",
   "execution_count": null,
   "metadata": {},
   "outputs": [],
   "source": [
    "with tf.Session() as sess:\n",
    "    # 载入模型结构\n",
    "    saver = tf.train.import_meta_graph('models/my_model.ckpt.meta')\n",
    "    # 载入模型参数（保存的是参数的数值）\n",
    "    saver.restore(sess, 'models/my_model.ckpt')\n",
    "    \n",
    "    # 根据 tensor 的名字获取到对应的 tensor\n",
    "    # 之前保存模型的时候模型输出保存为 output, \"0\" 是保存模型参数时自动加上的，所以这里也要加上\n",
    "    output = sess.graph.get_tensor_by_name('output:0')\n",
    "    accuracy = sess.graph.get_tensor_by_name('accuracy:0')\n",
    "    train_step = sess.graph.get_operation_by_name('train')   # 获取操作\n",
    "    \n",
    "    # 把测试集喂到网络中计算准确率\n",
    "    # x-input 是模型数据的输入，\":0\" 是保存模型参数时自动加上的，所以这里也要写上\n",
    "    # y-input 是模型的标签输入，\":0\" 是保存模型参数时自动加上的，所以这里也要写上\n",
    "    print(sess.run(accuracy, feed_dict = {'x-input:0': minst.test.images, \n",
    "                                          'y-input:0': minst.test.labels}))\n",
    "    \n",
    "    # 在原来模型的基础上再训练 11 个周期\n",
    "    for epoch in range(11):\n",
    "        for batch in range(n_batch):\n",
    "            batch_xs, batch_ys = minst.train.next_batch(batch_size)\n",
    "            sess.run(train_step, feed_dict = {'x-input:0': batch_xs,\n",
    "                                              'y-input:0': batch_ys})\n",
    "        # 计算模型的准确率\n",
    "        acc = sess.run(accuracy, feed_dict = {'x-input:0': minst.test.images, \n",
    "                                              'y-input:0': minst.test.labels})\n",
    "        print(acc)"
   ]
  },
  {
   "cell_type": "markdown",
   "metadata": {},
   "source": [
    "### 模型的载入（2）\n",
    "只有模型参数的文件，没有网络结构的文件。此时需要自己先定义网络结构，然后再载入模型的参数"
   ]
  },
  {
   "cell_type": "code",
   "execution_count": null,
   "metadata": {},
   "outputs": [],
   "source": []
  }
 ],
 "metadata": {
  "kernelspec": {
   "display_name": "Python 3",
   "language": "python",
   "name": "python3"
  },
  "language_info": {
   "codemirror_mode": {
    "name": "ipython",
    "version": 3
   },
   "file_extension": ".py",
   "mimetype": "text/x-python",
   "name": "python",
   "nbconvert_exporter": "python",
   "pygments_lexer": "ipython3",
   "version": "3.6.8"
  }
 },
 "nbformat": 4,
 "nbformat_minor": 2
}
