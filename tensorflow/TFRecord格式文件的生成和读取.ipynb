{
 "cells": [
  {
   "cell_type": "markdown",
   "metadata": {},
   "source": [
    "## TFRecord 生成\n",
    "### 一、为什么使用 TFRecord\n",
    "正常情况下我们训练文件夹经常会生成 train, test 或者val文件夹，这些文件夹内部往往会存着成千上万的图片或文本等文件，这些文件被散列存着，这样不仅占用磁盘空间，并且再被一个个读取的时候会非常慢，繁琐。占用大量内存空间（有的大型数据不足以一次性加载）。此时我们TFRecord格式的文件存储形式会很合理的帮我们存储数据。TFRecord内部使用了“Protocol Buffer”二进制数据编码方案，它只占用一个内存块，只需要一次性加载一个二进制文件的方式即可，简单，快速，尤其对大型训练数据很友好。而且当我们的训练数据量比较大的时候，可以将数据分成多个TFRecord文件，来提高处理效率。\n",
    "### 二、生成 TFRecord 简单实现方式\n",
    "我们可以简单分成两个部分来介绍如何生成 TFRecord，分别是 TFRecord 生成器以及样本 Example 模块。\n",
    "1. **TFRecord 生成器**\n"
   ]
  },
  {
   "cell_type": "code",
   "execution_count": null,
   "metadata": {},
   "outputs": [],
   "source": [
    "writer = tf.python_io.TFRecordWriter(record_path)\n",
    "writer.write(tf_example.SerializeToString())\n",
    "writer.close()"
   ]
  },
  {
   "cell_type": "markdown",
   "metadata": {},
   "source": [
    "这里面 *writer* 就是我们 *TFrecord* 生成器。接着我们就可以通过 *writer.write(tf_example.SerializeToString())* 来生成我们所要的 *tfrecord* 文件了。这里需要注意的是我们 *TFRecord* 生成器在写完文件后需要关闭 *writer.close()*。这里 *tf_example.SerializeToString()* 是将 *Example* 中的 *map* 压缩为二进制文件，更好的节省空间。那么 *tf_example* 是如何生成的呢？那就是下面所要介绍的样本 *Example* 模块了。\n"
   ]
  },
  {
   "cell_type": "markdown",
   "metadata": {},
   "source": [
    "2. **Example 模块**  \n",
    "首先来看一下Example 协议是什么样子的"
   ]
  },
  {
   "cell_type": "code",
   "execution_count": null,
   "metadata": {},
   "outputs": [],
   "source": [
    "message Example {\n",
    "  Features features = 1;\n",
    "};\n",
    "\n",
    "message Features {\n",
    "  map<string, Feature> feature = 1;\n",
    "};\n",
    "\n",
    "message Feature {\n",
    "  oneof kind {\n",
    "    BytesList bytes_list = 1;\n",
    "    FloatList float_list = 2;\n",
    "    Int64List int64_list = 3;\n",
    "  }\n",
    "};"
   ]
  },
  {
   "cell_type": "markdown",
   "metadata": {},
   "source": [
    "我们可以看出上面的tf_example可以写入的数据形式有三种，分别是BytesList, FloatList以及Int64List的类型。那我们如何写一个tf_example呢？下面有一个简单的例子。"
   ]
  },
  {
   "cell_type": "code",
   "execution_count": null,
   "metadata": {},
   "outputs": [],
   "source": [
    "def int64_feature(value):\n",
    "    return tf.train.Feature(int64_list=tf.train.Int64List(value=[value]))\n",
    "\n",
    "def bytes_feature(value):\n",
    "    return tf.train.Feature(bytes_list=tf.train.BytesList(value=[value]))\n",
    "\n",
    "tf_example = tf.train.Example(\n",
    "        features=tf.train.Features(feature={\n",
    "            'image/encoded': bytes_feature(encoded_jpg),\n",
    "            'image/format': bytes_feature('jpg'.encode()),\n",
    "            'image/class/label': int64_feature(label),\n",
    "            'image/height': int64_feature(height),\n",
    "            'image/width': int64_feature(width)}))"
   ]
  },
  {
   "cell_type": "markdown",
   "metadata": {},
   "source": [
    "下面我们来好好从外部往内部分解来解释一下上面的内容。  \n",
    "（1）tf.train.Example(features = None) 这里的 features 是 tf.train.Features 类型的特征实例。  \n",
    "（2）tf.train.Features(feature = None) 这里的 feature 是以字典的形式存在，*key：要保存数据的名字     value：要保存的数据，但是格式必须符合tf.train.Feature实例要求。\n"
   ]
  },
  {
   "cell_type": "code",
   "execution_count": null,
   "metadata": {},
   "outputs": [],
   "source": []
  }
 ],
 "metadata": {
  "kernelspec": {
   "display_name": "Python 3",
   "language": "python",
   "name": "python3"
  },
  "language_info": {
   "codemirror_mode": {
    "name": "ipython",
    "version": 3
   },
   "file_extension": ".py",
   "mimetype": "text/x-python",
   "name": "python",
   "nbconvert_exporter": "python",
   "pygments_lexer": "ipython3",
   "version": "3.6.8"
  }
 },
 "nbformat": 4,
 "nbformat_minor": 2
}
