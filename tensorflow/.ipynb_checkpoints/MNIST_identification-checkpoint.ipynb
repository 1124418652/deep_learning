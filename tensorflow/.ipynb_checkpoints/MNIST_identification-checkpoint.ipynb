{
 "cells": [
  {
   "attachments": {
    "image.png": {
     "image/png": "[encoded data removed]"
    }
   },
   "cell_type": "markdown",
   "metadata": {},
   "source": [
    "## MNIST database\n",
    "手写数字识别的训练集，有60000个训练样本，10000个测试样本  \n",
    "每一张图片包含 28 * 28 个像素，图片中的像素的强度值介于 0—1 之间  \n",
    "1. **数据集的文件内容如下**  \n",
    "train-images-idx3-ubyte.gz:  training set images (9912422 bytes)   \n",
    "train-labels-idx1-ubyte.gz:  training set labels (28881 bytes)   \n",
    "t10k-images-idx3-ubyte.gz:   test set images (1648877 bytes)   \n",
    "t10k-labels-idx1-ubyte.gz:   test set labels (4542 bytes)  \n",
    "2. **每个数据文件的内容大致可以分为以下3个部分**  \n",
    "![image.png](attachment:image.png)"
   ]
  },
  {
   "cell_type": "code",
   "execution_count": 1,
   "metadata": {},
   "outputs": [],
   "source": [
    "import tensorflow as tf\n",
    "import numpy as np\n",
    "import matplotlib.pyplot as plt"
   ]
  },
  {
   "cell_type": "markdown",
   "metadata": {},
   "source": [
    "### 提取mnist文件中的数据"
   ]
  },
  {
   "cell_type": "code",
   "execution_count": 2,
   "metadata": {},
   "outputs": [],
   "source": [
    "# 提取数据文件中的数据\n",
    "import os\n",
    "import re\n",
    "import struct\n",
    "\n",
    "dataset_dir = 'datasets/mnist_database/'\n",
    "train_set_path = os.path.join(dataset_dir, 'train-images.idx3-ubyte')\n",
    "train_label_path = os.path.join(dataset_dir, 'train-labels.idx1-ubyte')\n",
    "test_set_path = os.path.join(dataset_dir, 't10k-images.idx3-ubyte')\n",
    "test_label_path = os.path.join(dataset_dir, 't10k-labels.idx1-ubyte')\n",
    "\n",
    "def load_data(file_path):\n",
    "    \n",
    "    if not os.path.exists(file_path):\n",
    "        print(\"The file is not exist!\")\n",
    "        return\n",
    "    \n",
    "    fr_binary = open(file_path, 'rb')\n",
    "    buffer = fr_binary.read()\n",
    "\n",
    "    if re.search('\\w+-(images)\\.', os.path.split(file_path)[-1]) is not None:\n",
    "        \"\"\"\n",
    "        提取数据文件\n",
    "        \"\"\"\n",
    "        head = struct.unpack_from('>IIII', buffer, 0)\n",
    "        offset = struct.calcsize('>IIII')       # 定位到字节流中 data 开始的位置\n",
    "        img_num, width, height = head[1:]   \n",
    "        format_str = '>{0}B'.format(img_num * width * height)\n",
    "        data = struct.unpack_from(format_str, buffer, offset)\n",
    "        fr_binary.close()\n",
    "        data = np.reshape(data, [img_num, width, height])\n",
    "        return data\n",
    "    \n",
    "    elif re.search('\\w+-(labels)\\.', file_path) is not None:\n",
    "        \"\"\"\n",
    "        提取标签文件\n",
    "        \"\"\"\n",
    "        head = struct.unpack_from('>II', buffer, 0)\n",
    "        label_num = head[1]\n",
    "        offset = struct.calcsize('>II')\n",
    "        format_str = '>{0}B'.format(label_num)\n",
    "        labels = struct.unpack_from(format_str, buffer, offset)\n",
    "        fr_binary.close()\n",
    "        labels = np.reshape(labels, [label_num])\n",
    "        return labels\n",
    "        \n",
    "train_img = load_data(train_set_path)\n",
    "train_label = load_data(train_label_path)\n",
    "test_img = load_data(test_set_path)\n",
    "test_label = load_data(test_label_path)"
   ]
  },
  {
   "cell_type": "markdown",
   "metadata": {},
   "source": [
    "### 调整数据的格式"
   ]
  },
  {
   "cell_type": "code",
   "execution_count": 3,
   "metadata": {},
   "outputs": [],
   "source": [
    "# 调整数据结构\n",
    "def convert_one_hot(y, num_classes):\n",
    "    \n",
    "    y_one_hot = np.zeros((y.shape[-1], num_classes))\n",
    "    for i in range(y.shape[-1]):\n",
    "        y_one_hot[i][y[i]] = 1\n",
    "    return y_one_hot\n",
    "    \n",
    "train_label_one_hot = convert_one_hot(train_label, 10)\n",
    "test_label_one_hot = convert_one_hot(test_label, 10)\n",
    "train_data = (np.reshape(train_img, (60000, 784)) / 255).astype(np.float32)\n",
    "test_data = (np.reshape(test_img, (10000, 784)) / 255).astype(np.float32)"
   ]
  },
  {
   "cell_type": "markdown",
   "metadata": {},
   "source": [
    "### 定义生成 mini_batch 的函数"
   ]
  },
  {
   "cell_type": "code",
   "execution_count": 4,
   "metadata": {},
   "outputs": [
    {
     "name": "stdout",
     "output_type": "stream",
     "text": [
      "1000\n"
     ]
    }
   ],
   "source": [
    "# 生成batches\n",
    "def get_batches(X, y, batch_size, axis = 0, seed = 0):\n",
    "    \n",
    "    assert(X.shape[axis] == y.shape[axis])\n",
    "    np.random.seed(seed)\n",
    "    m = X.shape[axis]\n",
    "    mini_batches = []\n",
    "    permutation = list(np.random.permutation(m))\n",
    "    num_complete_minibatches = m // batch_size\n",
    "    \n",
    "    if 0 == axis:\n",
    "        shuffled_X = X[permutation, :]\n",
    "        shuffled_y = y[permutation, :]\n",
    "        for k in range(num_complete_minibatches):\n",
    "            mini_batch_X = shuffled_X[k * batch_size: (k + 1) * batch_size, :]\n",
    "            mini_batch_y = shuffled_y[k * batch_size: (k + 1) * batch_size, :]\n",
    "            mini_batches.append((mini_batch_X, mini_batch_y))\n",
    "        if m % batch_size != 0:\n",
    "            mini_batch_X = shuffled_X[num_complete_minibatches * batch_size, :]\n",
    "            mini_batch_y = shuffled_y[num_complete_minibatches * batch_size, :]\n",
    "            mini_batches.append((mini_batch_X, mini_batch_y))\n",
    "        return mini_batches\n",
    "        \n",
    "    elif 1 == axis:\n",
    "        shuffled_X = X[:, permutation]\n",
    "        shuffled_y = y[:, permutation]\n",
    "        for k in range(num_complete_minibatches):\n",
    "            mini_batch_X = shuffled_X[:, k * batch_size: (k + 1) * batch_size]\n",
    "            mini_batch_y = shuffled_y[:, k * batch_size: (k + 1) * batch_size]\n",
    "            mini_batches.append((mini_batch_X, mini_batch_y))\n",
    "        if m % batch_size != 0:\n",
    "            mini_batch_X = shuffled_X[:, num_complete_minibatches * batch_size]\n",
    "            mini_batch_y = shuffled_y[:, num_complete_minibatches * batch_size]\n",
    "            mini_batches.append((mini_batch_X, mini_batch_y))\n",
    "        return mini_batches\n",
    "    \n",
    "print(len(get_batches(test_data, test_label_one_hot, 10)))"
   ]
  },
  {
   "cell_type": "markdown",
   "metadata": {},
   "source": [
    "### 搭建计算图"
   ]
  },
  {
   "cell_type": "code",
   "execution_count": 8,
   "metadata": {},
   "outputs": [
    {
     "name": "stdout",
     "output_type": "stream",
     "text": [
      "WARNING:tensorflow:From <ipython-input-8-052886fb81e4>:14: softmax_cross_entropy_with_logits (from tensorflow.python.ops.nn_ops) is deprecated and will be removed in a future version.\n",
      "Instructions for updating:\n",
      "\n",
      "Future major versions of TensorFlow will allow gradients to flow\n",
      "into the labels input on backprop by default.\n",
      "\n",
      "See `tf.nn.softmax_cross_entropy_with_logits_v2`.\n",
      "\n"
     ]
    }
   ],
   "source": [
    "# 搭建一个简单的神经网络（搭建计算图）\n",
    "X = tf.placeholder(tf.float32, [None, 784])\n",
    "y = tf.placeholder(tf.float32, [None, 10])\n",
    "\n",
    "# 设置网络第一层的权重及偏置\n",
    "W1 = tf.Variable(tf.zeros([784, 10]))   # 节点数为10\n",
    "b1 = tf.Variable(tf.zeros([1, 10]))\n",
    "Z1 = tf.matmul(X, W1) + b1\n",
    "prediction = tf.nn.softmax(Z1)\n",
    "\n",
    "# 使用L2代价函数\n",
    "# loss = tf.reduce_mean(tf.square(y - prediction))\n",
    "# 使用cross entropy代价函数\n",
    "loss = tf.reduce_mean(tf.nn.softmax_cross_entropy_with_logits(labels=y, logits = prediction))\n",
    "\n",
    "# 使用梯度下降法\n",
    "train_step = tf.train.GradientDescentOptimizer(0.1)\n",
    "train = train_step.minimize(loss)\n",
    "\n",
    "# 变量初始化\n",
    "init = tf.global_variables_initializer()\n",
    "\n",
    "# 计算准确率，结果存放在一个 boolean 型列表中\n",
    "correction = tf.equal(tf.argmax(y, 1), tf.argmax(prediction, 1))   # argmax返回最大值所在的位置\n",
    "accuracy = tf.reduce_mean(tf.cast(correction, tf.float32))"
   ]
  },
  {
   "cell_type": "markdown",
   "metadata": {},
   "source": [
    "### 执行计算图"
   ]
  },
  {
   "cell_type": "code",
   "execution_count": 9,
   "metadata": {},
   "outputs": [
    {
     "name": "stdout",
     "output_type": "stream",
     "text": [
      "loss of iteration 0 : 1.672073\n",
      "accuracy is: 0.864900\n",
      "loss of iteration 20 : 1.550155\n",
      "accuracy is: 0.924900\n",
      "loss of iteration 40 : 1.541093\n",
      "accuracy is: 0.927700\n",
      "loss of iteration 60 : 1.535237\n",
      "accuracy is: 0.928400\n",
      "loss of iteration 80 : 1.530826\n",
      "accuracy is: 0.929400\n",
      "loss of iteration 100 : 1.527375\n",
      "accuracy is: 0.929400\n",
      "loss of iteration 120 : 1.524521\n",
      "accuracy is: 0.929700\n",
      "loss of iteration 140 : 1.522393\n",
      "accuracy is: 0.930600\n",
      "loss of iteration 160 : 1.520897\n",
      "accuracy is: 0.930200\n",
      "loss of iteration 180 : 1.519747\n",
      "accuracy is: 0.930500\n",
      "loss of iteration 200 : 1.518789\n",
      "accuracy is: 0.930400\n"
     ]
    }
   ],
   "source": [
    "with tf.Session() as sess:       # 创建 session 训练网络\n",
    "    sess.run(init)   # 先执行变量初始化\n",
    "    mini_batches = get_batches(train_data, train_label_one_hot, batch_size = 100)\n",
    "    for i in range(201):\n",
    "        for (X_data, y_data) in mini_batches:\n",
    "            sess.run(train, feed_dict = {X: X_data, y: y_data})\n",
    "            loss_value = sess.run(loss, feed_dict = {X: X_data, y: y_data}) \n",
    "        if 0 == i % 20:\n",
    "            acc = sess.run(accuracy, feed_dict = {X: test_data, y: test_label_one_hot})   \n",
    "            print(\"loss of iteration %d : %f\" %(i, loss_value))\n",
    "            print(\"accuracy is: %f\" %(acc))\n",
    "    "
   ]
  },
  {
   "cell_type": "code",
   "execution_count": null,
   "metadata": {},
   "outputs": [],
   "source": []
  },
  {
   "cell_type": "code",
   "execution_count": null,
   "metadata": {},
   "outputs": [],
   "source": []
  }
 ],
 "metadata": {
  "kernelspec": {
   "display_name": "Python 3",
   "language": "python",
   "name": "python3"
  },
  "language_info": {
   "codemirror_mode": {
    "name": "ipython",
    "version": 3
   },
   "file_extension": ".py",
   "mimetype": "text/x-python",
   "name": "python",
   "nbconvert_exporter": "python",
   "pygments_lexer": "ipython3",
   "version": "3.7.0"
  }
 },
 "nbformat": 4,
 "nbformat_minor": 2
}
