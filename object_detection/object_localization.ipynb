{
 "cells": [
  {
   "cell_type": "markdown",
   "metadata": {},
   "source": [
    "# Classification with localization\n",
    "### 一、define the target label y\n",
    "the model need to output $b_x, b_y, b_h, b_w$, and class label  \n",
    "\n",
    "|variable|discription                       |  \n",
    "|:-------|:---------------------------------|  \n",
    "|$b_x$|the x coordinate of object in picture|  \n",
    "|$b_y$|the y coordinate of object in picture|  \n",
    "|$b_h$|the height of object|  \n",
    "|$b_w$|the width of object|  \n",
    "|class label|the label of the object|\n",
    "\n",
    "presume we have 4 classes labels:\n",
    "1. class1\n",
    "2. class2\n",
    "3. class3\n",
    "4. background\n",
    "\n",
    "-------\n",
    "\n",
    "### 二、landmark detection\n",
    "the network need to output the position of some feature pointers\n",
    "\n",
    "---\n",
    "\n",
    "# sliding windows detection\n",
    "**一、先训练卷积网络，而后将训练好的网络用于滑动窗检测**\n",
    "1. **训练集的构建：**  \n",
    "手动截取目标的图片，要求目标位于截取的图片的中央，并且基本上占满图片，给截取的图片赋予标签\n",
    "2. **卷积神经网络的训练:**  \n",
    "通过构建的训练集，训练有效的卷积神经网络\n",
    "3. **目标检测:**  \n",
    "定义一个尺寸改变的 *sliding window* ，以指定的步长在待检测的图片中滑动，对于每次滑动选择出的局部区域，输入训练好的卷积神经网络中进行检测，判断是否为检测目标。滑动完一轮之后改变 *sliding window* 的尺寸继续下一轮的检测\n",
    "\n",
    "**使用上述方法进行检测的主要问题如下：**\n",
    "1. 当所选取的滑动步长太小时，计算需要耗费很长的时间\n",
    "2. 当所选取的滑动步长太大时，准确性较低，可能没法有效检测出目标  \n",
    "\n",
    "**二、turning fully connect layer into convolutional layer**\n",
    "\n",
    "**三、将 sliding window 应用于卷积神经网络中**\n",
    "\n",
    "----"
   ]
  },
  {
   "cell_type": "markdown",
   "metadata": {},
   "source": [
    "# YOLO Algrithom\n",
    "(You Only Look Once)  \n",
    "### 一、the output of YOLO\n",
    "1. divid the image into an $S \\times S$ grid \n",
    "2. for each grid cell, should contain these information:\n",
    "\\begin{equation}\n",
    "y=\n",
    "\\left(\n",
    "\\begin{array}{c}\n",
    "P_c\\\\\n",
    "b_x\\\\\n",
    "b_y\\\\\n",
    "b_h\\\\\n",
    "b_w\\\\\n",
    "C_1\\\\\n",
    "...\\\\\n",
    "C_n\n",
    "\\end{array}\n",
    "\\right),\\\\\n",
    "其中\\ P_c\\ 表示在该区域中是否包含\\ object\\ 的中心（所以即使object横跨了多个grid\\ cell，\\\\由于中心只有一个，所以对于一个object，只有一个grid\\ cell的P_c会被标记为１），\\\\如果包含，P_c=1，否则为０；\\\\ \\ C_1 \\to C_n\\ 表示\\ object\\ 所属的类别，n个类别中不包括背景。\n",
    "\\end{equation}\n",
    "当 $P_c=1$ 时，$C_1 \\to C_n$　中对应的类别为１，并且需要注明 $b_x,b_y,b_h,b_w$ 的值(前两个为object 中心的坐标，后两个为包含对象的矩形框的高和宽)；当 $P_c=0$　时，不需要管向量中其余的值。  \n",
    "The values of $b_x$ and $b_y$ must between 0~1, but the value of $b_h$ and $b_w$ can be larger than 1. And all of these four values is relative to the size of grid cell(the propotion of the size of grid cell).\n",
    "\n",
    "\n",
    "3. 对于每幅图像而言，输出的维度为：  \n",
    "$S \\times S \\times (1 + 4 + classes\\ number)$"
   ]
  },
  {
   "cell_type": "markdown",
   "metadata": {},
   "source": [
    "### 二、Intersection over union(IOU)\n",
    "IOU was used to evaluate the object detection algrithom.  \n",
    "the Iou function while calculate the intersection over union of the actual bounding box of objects and the detected bounding box.  \n",
    "\\begin{equation}\n",
    "IOU=\\frac {Size_{bounding\\ box\\ actual} \\bigcap Size_{bounding\\ box\\ detected}}\n",
    "{Size_{bounding\\ box\\ actual} \\bigcup Size_{bounding\\ box\\ detected}}\n",
    "\\end{equation}\n",
    "If the IOU is greater than 0.5, the detection is correct."
   ]
  },
  {
   "cell_type": "markdown",
   "metadata": {},
   "source": [
    "### 三、Non-max suppression\n",
    "One of the problem of object detection over is that the algrithoms may find multiple detections of the same object.  \n",
    "Non-max suppression was used to make sure there is only one detection of one object."
   ]
  },
  {
   "cell_type": "code",
   "execution_count": null,
   "metadata": {},
   "outputs": [],
   "source": []
  }
 ],
 "metadata": {
  "kernelspec": {
   "display_name": "Python 3",
   "language": "python",
   "name": "python3"
  },
  "language_info": {
   "codemirror_mode": {
    "name": "ipython",
    "version": 3
   },
   "file_extension": ".py",
   "mimetype": "text/x-python",
   "name": "python",
   "nbconvert_exporter": "python",
   "pygments_lexer": "ipython3",
   "version": "3.6.8"
  }
 },
 "nbformat": 4,
 "nbformat_minor": 2
}
