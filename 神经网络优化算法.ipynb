{
 "cells": [
  {
   "cell_type": "markdown",
   "metadata": {},
   "source": [
    "## 优化算法\n",
    "\n",
    "### mini-batch gradient descent\n",
    "1. 在一般情况下，向量化可以加速神经网络的训练过程，但是当样本的数量十分大的时候，即使使用向量化，训练的过程也会十分缓慢。这时可以将样本分成小批量（mini-batch）,如1000个样本一组\n",
    "2. 对每组样本，分别计算正向传播和反向传播，训练网络，更新参数\n",
    "---\n",
    "\n",
    "\n",
    "### 指数加权平均\n",
    "**计算移动平均值**  \n",
    "假设原数据为$[\\theta_1, \\theta_2, \\theta_3,...,\\theta_n]$，则移动平均值按以下方法计算：\n",
    "\\begin{equation}\n",
    "v_0 = 0\\\\\n",
    "v_1 = 0.9×v_0+0.1×\\theta_1\\\\\n",
    "v_2 = 0.9×v_1+0.1×\\theta_2\\\\\n",
    "...\\\\\n",
    "v_n = 0.9×v_{n-1}+0.1×\\theta_n\n",
    "\\end{equation}\n",
    "对于公式：$v_t=\\beta V_{t-1}+\\beta \\theta_t$，\n",
    "$V_t$ 的值约为 $\\frac {1}{1-\\beta}$ 天的平均值。即上述式子中为10天的平均值。  \n",
    "**偏差修正**  \n",
    "由于在计算前几个平均值的时候，$v_0=0$的影响比较大，可能会使得求得的前几个均值$v_1,v_2,...$的值偏小，所以需要对偏差进行修正。修正的方法如下：  \n",
    "\\begin{equation}\n",
    "v_t=\\frac {v_t}{1-\\beta^t}\n",
    "\\end{equation}\n",
    "随着 t 值的增大，$1-\\beta^t$ 的值趋向于１，所以偏差修正的影响越来越小。\n",
    "\n",
    "---"
   ]
  },
  {
   "cell_type": "markdown",
   "metadata": {},
   "source": [
    "### 动量梯度下降法（Gradient descent with momentum）\n",
    "**算法流程**  \n",
    "在当前的 mini-batch 中，计算 dw, db：\n",
    "\\begin{equation}\n",
    "v_{dw}=\\beta v_{dw}(此处为上一个v_{dw}) + (1-\\beta)dw\\\\\n",
    "v_{db}=\\beta v_{db}(此处为上一个v_{db}) + (1-\\beta)db\\\\\n",
    "w = w-\\alpha v_{dw}\\\\\n",
    "b = b-\\alpha v_{db}\n",
    "\\end{equation}\n",
    "在上述算法中，有两个超参数 $\\alpha,\\beta$，$\\beta$的值通常取0.9。在动量梯度下降法中，一般不考虑偏差修正。  \n",
    "**动量梯度下降算法的解释**  \n",
    "在碗形的 cost function 中，指向最低点的路径更新才是有效的，而垂直该方向的路径更新是无效的，在动量梯度下降法中，由于求平均值的作用，无效的路径更新由于符号相反，会相互抵消，留下的是近似的有效的更新路径。"
   ]
  },
  {
   "cell_type": "code",
   "execution_count": null,
   "metadata": {},
   "outputs": [],
   "source": []
  }
 ],
 "metadata": {
  "kernelspec": {
   "display_name": "Python 3",
   "language": "python",
   "name": "python3"
  },
  "language_info": {
   "codemirror_mode": {
    "name": "ipython",
    "version": 3
   },
   "file_extension": ".py",
   "mimetype": "text/x-python",
   "name": "python",
   "nbconvert_exporter": "python",
   "pygments_lexer": "ipython3",
   "version": "3.5.2"
  }
 },
 "nbformat": 4,
 "nbformat_minor": 2
}
