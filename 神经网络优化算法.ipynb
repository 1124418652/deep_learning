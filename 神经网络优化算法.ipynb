{
 "cells": [
  {
   "cell_type": "markdown",
   "metadata": {},
   "source": [
    "## 优化算法\n",
    "\n",
    "### mini-batch gradient descent\n",
    "1. 在一般情况下，向量化可以加速神经网络的训练过程，但是当样本的数量十分大的时候，即使使用向量化，训练的过程也会十分缓慢。这时可以将样本分成小批量（mini-batch）,如1000个样本一组\n",
    "2. 对每组样本，分别计算正向传播和反向传播，训练网络，更新参数\n",
    "\n",
    "### 指数加权平均\n",
    "计算移动平均值\n",
    "假设原数据为$[\\theta_1, \\theta_2, \\theta_3,...,\\theta_n]$，则移动平均值按以下方法计算：\n",
    "\\begin{equation}\n",
    "v_0 = 0\\\\\n",
    "v_1 = 0.9×\\theta_0+0.1×\\theta_1\\\\\n",
    "v_2 = 0.9×\\theta_1+0.1×\\theta_2\\\\\n",
    "...\\\\\n",
    "v_n = 0.9×\\theta_{n-1}+0.1×\\theta_n\n",
    "\\end{equation}"
   ]
  },
  {
   "cell_type": "code",
   "execution_count": null,
   "metadata": {},
   "outputs": [],
   "source": []
  }
 ],
 "metadata": {
  "kernelspec": {
   "display_name": "Python 3",
   "language": "python",
   "name": "python3"
  },
  "language_info": {
   "codemirror_mode": {
    "name": "ipython",
    "version": 3
   },
   "file_extension": ".py",
   "mimetype": "text/x-python",
   "name": "python",
   "nbconvert_exporter": "python",
   "pygments_lexer": "ipython3",
   "version": "3.5.2"
  }
 },
 "nbformat": 4,
 "nbformat_minor": 2
}
