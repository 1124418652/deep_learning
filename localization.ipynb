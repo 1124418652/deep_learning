{
 "cells": [
  {
   "cell_type": "markdown",
   "metadata": {},
   "source": [
    "## Classification with localization\n",
    "### 一、define the target label y\n",
    "the model need to output $b_x, b_y, b_h, b_w$, and class label  \n",
    "\n",
    "|variable|discription                       |  \n",
    "|:-------|:---------------------------------|  \n",
    "|$b_x$|the x coordinate of object in picture|  \n",
    "|$b_y$|the y coordinate of object in picture|  \n",
    "|$b_h$|the height of object|  \n",
    "|$b_w$|the width of object|  \n",
    "|class label|the label of the object|\n",
    "\n",
    "presume we have 4 classes labels:\n",
    "1. class1\n",
    "2. class2\n",
    "3. class3\n",
    "4. background\n",
    "\n",
    "-------\n",
    "\n",
    "### 二、landmark detection\n",
    "the network need to output the position of some feature pointers\n",
    "\n",
    "---\n",
    "\n",
    "### 三、sliding windows detection\n",
    "**１）先训练卷积网络，而后将训练好的网络用于滑动窗检测**\n",
    "1. **训练集的构建：**  \n",
    "手动截取目标的图片，要求目标位于截取的图片的中央，并且基本上占满图片，给截取的图片赋予标签\n",
    "2. **卷积神经网络的训练:**  \n",
    "通过构建的训练集，训练有效的卷积神经网络\n",
    "3. **目标检测:**  \n",
    "定义一个尺寸改变的 *sliding window* ，以指定的步长在待检测的图片中滑动，对于每次滑动选择出的局部区域，输入训练好的卷积神经网络中进行检测，判断是否为检测目标。滑动完一轮之后改变 *sliding window* 的尺寸继续下一轮的检测\n",
    "\n",
    "**使用上述方法进行检测的主要问题如下：**\n",
    "1. 当所选取的滑动步长太小时，计算需要耗费很长的时间\n",
    "2. 当所选取的滑动步长太大时，准确性较低，可能没法有效检测出目标  \n",
    "\n",
    "**２）turning fully connect layer into convolutional layer**\n",
    "\n",
    "**３）将 sliding window 应用于卷积神经网络中**"
   ]
  },
  {
   "cell_type": "code",
   "execution_count": null,
   "metadata": {},
   "outputs": [],
   "source": []
  },
  {
   "cell_type": "code",
   "execution_count": null,
   "metadata": {},
   "outputs": [],
   "source": []
  }
 ],
 "metadata": {
  "kernelspec": {
   "display_name": "Python 3",
   "language": "python",
   "name": "python3"
  },
  "language_info": {
   "codemirror_mode": {
    "name": "ipython",
    "version": 3
   },
   "file_extension": ".py",
   "mimetype": "text/x-python",
   "name": "python",
   "nbconvert_exporter": "python",
   "pygments_lexer": "ipython3",
   "version": "3.5.2"
  }
 },
 "nbformat": 4,
 "nbformat_minor": 2
}
